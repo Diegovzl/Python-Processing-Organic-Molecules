{
  "cells": [
    {
      "cell_type": "markdown",
      "source": [
        "# Use Python tools to process chemical structures of neutral organic molecules.\n",
        "- Select the molecule to study from [Pubchem](https://pubchem.ncbi.nlm.nih.gov/) database, which contains 111.5 million compounds."
      ],
      "metadata": {
        "id": "eH6uv6WN48SC"
      }
    },
    {
      "cell_type": "markdown",
      "source": [
        "Execute the cell and follow the steps, it is necessary to connect with the user account in which the files are contained."
      ],
      "metadata": {
        "id": "hWrAI8EhvTIN"
      }
    },
    {
      "cell_type": "code",
      "execution_count": null,
      "metadata": {
        "id": "vI_LZESUv-Fb",
        "colab": {
          "base_uri": "https://localhost:8080/"
        },
        "outputId": "c9531589-d9af-47e6-acfd-e0f3f45d2084"
      },
      "outputs": [
        {
          "output_type": "stream",
          "name": "stdout",
          "text": [
            "Drive already mounted at /content/drive; to attempt to forcibly remount, call drive.mount(\"/content/drive\", force_remount=True).\n"
          ]
        }
      ],
      "source": [
        "from google.colab import drive\n",
        "drive.mount('/content/drive')"
      ]
    },
    {
      "cell_type": "markdown",
      "source": [
        "- The selected structure is the LEVOTHYROXINE [Pubchem](https://pubchem.ncbi.nlm.nih.gov/compound/5819) molecule. The 3D structure of the molecule was extracted and saved in sdf format.\n"
      ],
      "metadata": {
        "id": "h8J5PaIxvXpX"
      }
    },
    {
      "cell_type": "code",
      "execution_count": null,
      "metadata": {
        "id": "X0UbeCg6QsuA"
      },
      "outputs": [],
      "source": [
        "# Path of the .sdf file with the structure of the selected molecule.\n",
        "str_archivo = '/content/drive/MyDrive/python para química/MÓDULO 3/Tarea 3/Conformer3D_CID_5819.sdf'"
      ]
    },
    {
      "cell_type": "code",
      "source": [
        "# Path of the file in which the atomic charges will be stored.\n",
        "path_to_cargas_file = 'Change for your path'\n",
        "ruta_archivo_cargas = f\"{path_to_cargas_file}cargas.csv\""
      ],
      "metadata": {
        "id": "mhAZT7OhNNTI"
      },
      "execution_count": null,
      "outputs": []
    },
    {
      "cell_type": "code",
      "source": [
        "# Path of the file in which the coordinates will be stored.\n",
        "path_to_coordenadas_file = 'Change for your path'\n",
        "ruta_archivo_coordenadas = f\"{path_to_coordenadas_file}coordenadas.xyz\""
      ],
      "metadata": {
        "id": "8rsNNRYvRdJI"
      },
      "execution_count": null,
      "outputs": []
    },
    {
      "cell_type": "markdown",
      "source": [
        "# Import Statements"
      ],
      "metadata": {
        "id": "erJlBxGpxoDY"
      }
    },
    {
      "cell_type": "code",
      "execution_count": null,
      "metadata": {
        "id": "flujqYbBH8xZ",
        "colab": {
          "base_uri": "https://localhost:8080/"
        },
        "outputId": "617e106b-9e5f-4add-d5bb-f5e3f28f85b1"
      },
      "outputs": [
        {
          "output_type": "stream",
          "name": "stdout",
          "text": [
            "Looking in indexes: https://pypi.org/simple, https://us-python.pkg.dev/colab-wheels/public/simple/\n",
            "Requirement already satisfied: qcelemental in /usr/local/lib/python3.7/dist-packages (0.25.0)\n",
            "Requirement already satisfied: numpy>=1.12.0 in /usr/local/lib/python3.7/dist-packages (from qcelemental) (1.21.6)\n",
            "Requirement already satisfied: pint>=0.10.0 in /usr/local/lib/python3.7/dist-packages (from qcelemental) (0.18)\n",
            "Requirement already satisfied: pydantic>=1.8.2 in /usr/local/lib/python3.7/dist-packages (from qcelemental) (1.9.2)\n",
            "Requirement already satisfied: packaging in /usr/local/lib/python3.7/dist-packages (from pint>=0.10.0->qcelemental) (21.3)\n",
            "Requirement already satisfied: importlib-metadata in /usr/local/lib/python3.7/dist-packages (from pint>=0.10.0->qcelemental) (4.12.0)\n",
            "Requirement already satisfied: typing-extensions>=3.7.4.3 in /usr/local/lib/python3.7/dist-packages (from pydantic>=1.8.2->qcelemental) (4.1.1)\n",
            "Requirement already satisfied: zipp>=0.5 in /usr/local/lib/python3.7/dist-packages (from importlib-metadata->pint>=0.10.0->qcelemental) (3.8.1)\n",
            "Requirement already satisfied: pyparsing!=3.0.5,>=2.0.2 in /usr/local/lib/python3.7/dist-packages (from packaging->pint>=0.10.0->qcelemental) (3.0.9)\n"
          ]
        }
      ],
      "source": [
        "#To obtain the atomic masses, we will use the qcelemental modulus\n",
        "!pip install qcelemental \n",
        "import qcelemental as qcel\n",
        "import numpy as np\n",
        "import pandas as pd"
      ]
    },
    {
      "cell_type": "markdown",
      "source": [
        "# Process the sdf file with python functions saving the coordinates in a numpy array and the element symbols in a list.\n",
        "- Get the partial charges of the atoms in the file and save these to a list.\n",
        "Through the genfromtxt module, we access the file where they are stored, we will obtain the coordinates, along with the atomic symbol of each element involved.\n",
        "- The first thing will be to obtain the total number of atoms that make up the molecule, which will allow us to understand the total number of lines that we must extract, from where we will obtain the coordinates."
      ],
      "metadata": {
        "id": "PWNFfMpAvyq8"
      }
    },
    {
      "cell_type": "code",
      "execution_count": null,
      "metadata": {
        "id": "JBV2AdvtG5oc"
      },
      "outputs": [],
      "source": [
        "num_atomos = int(np.genfromtxt(str_archivo, skip_header=3,invalid_raise=False, usecols=0, max_rows= 1))\n",
        "coordenadas_atomicas = np.genfromtxt(str_archivo, skip_header=4, invalid_raise=False, usecols=(0,1,2), max_rows= num_atomos)"
      ]
    },
    {
      "cell_type": "code",
      "source": [
        "#coordenadas_atomicas"
      ],
      "metadata": {
        "id": "R4vc48_cUWZe"
      },
      "execution_count": null,
      "outputs": []
    },
    {
      "cell_type": "markdown",
      "source": [
        "Using the same method used above, we will also extract the atomic symbols, which will be stored in a list."
      ],
      "metadata": {
        "id": "i3F6zturwFhu"
      }
    },
    {
      "cell_type": "code",
      "source": [
        "atoms_array = (np.genfromtxt(str_archivo, skip_header=4, invalid_raise=False, dtype=str, usecols=(3), max_rows= num_atomos))\n",
        "simbolo_atomico = atoms_array.tolist()"
      ],
      "metadata": {
        "id": "o6NNg7MVUjzn"
      },
      "execution_count": null,
      "outputs": []
    },
    {
      "cell_type": "code",
      "source": [
        "#simbolo_atomico"
      ],
      "metadata": {
        "id": "8foNK8o_Vl7R"
      },
      "execution_count": null,
      "outputs": []
    },
    {
      "cell_type": "markdown",
      "source": [
        "# Obtaining the partial charges of atoms. \n",
        "To extract these loads, it is necessary to access the section within the file named \"PUBCHEM_MMFF94_PARTIAL_CHARGES\",\n",
        "To accomplish this, we use the readline() method which accesses the file content line by line.\n",
        "When the desired section is found, the partial loads are obtained."
      ],
      "metadata": {
        "id": "o9DARctxwPTy"
      }
    },
    {
      "cell_type": "code",
      "source": [
        "# Function to sort a list of tuples using the sorted() method.\n",
        "def Ordenar_Tupla(tup):\n",
        "    return(sorted(tup, key = lambda x: x[0])) \n",
        " "
      ],
      "metadata": {
        "id": "yfLrSlZHDtVQ"
      },
      "execution_count": null,
      "outputs": []
    },
    {
      "cell_type": "code",
      "source": [
        "myfile = open(str_archivo, \"r\")\n",
        "myline = myfile.readline()\n",
        "NUM_PARTIAL_CHARGES = 0\n",
        "while myline:\n",
        "  if myline.strip() == '> <PUBCHEM_MMFF94_PARTIAL_CHARGES>':\n",
        "    NUM_PARTIAL_CHARGES = int(myfile.readline())\n",
        "    break\n",
        "  myline = myfile.readline()  \n",
        "\n",
        "cargas_array =np.genfromtxt(myfile, invalid_raise=False, dtype=[('atomoint','i8'),('cargafloat','f8')], usecols=(0,1), max_rows= NUM_PARTIAL_CHARGES)\n",
        "cargas_parciales = cargas_array.tolist()"
      ],
      "metadata": {
        "id": "zADc7RGMaj-_"
      },
      "execution_count": null,
      "outputs": []
    },
    {
      "cell_type": "code",
      "source": [
        "#cargas_parciales"
      ],
      "metadata": {
        "id": "GX1q3PgbVy5V"
      },
      "execution_count": null,
      "outputs": []
    },
    {
      "cell_type": "code",
      "source": [
        "# printing the sorted list of tuples\n",
        "sorted_cargas_parciales = Ordenar_Tupla(cargas_parciales)"
      ],
      "metadata": {
        "id": "eamryj21Eu54"
      },
      "execution_count": null,
      "outputs": []
    },
    {
      "cell_type": "code",
      "source": [
        "sorted_cargas_parciales"
      ],
      "metadata": {
        "id": "WjUJqsSHV5eg",
        "colab": {
          "base_uri": "https://localhost:8080/"
        },
        "outputId": "0cad3ef9-313c-4e9c-fcdb-8feeba4e32d8"
      },
      "execution_count": null,
      "outputs": [
        {
          "output_type": "execute_result",
          "data": {
            "text/plain": [
              "[(1, -0.08),\n",
              " (2, -0.08),\n",
              " (3, -0.08),\n",
              " (4, -0.08),\n",
              " (5, -0.17),\n",
              " (6, -0.65),\n",
              " (7, -0.57),\n",
              " (8, -0.53),\n",
              " (9, -0.99),\n",
              " (10, 0.14),\n",
              " (11, 0.33),\n",
              " (12, -0.14),\n",
              " (13, -0.15),\n",
              " (14, -0.15),\n",
              " (15, 0.08),\n",
              " (16, 0.08),\n",
              " (17, 0.08),\n",
              " (18, 0.66),\n",
              " (19, 0.08),\n",
              " (20, -0.15),\n",
              " (21, -0.15),\n",
              " (22, 0.08),\n",
              " (23, 0.08),\n",
              " (24, 0.08),\n",
              " (28, 0.15),\n",
              " (29, 0.15),\n",
              " (30, 0.36),\n",
              " (31, 0.36),\n",
              " (32, 0.15),\n",
              " (33, 0.15),\n",
              " (34, 0.5),\n",
              " (35, 0.45)]"
            ]
          },
          "metadata": {},
          "execution_count": 85
        }
      ]
    },
    {
      "cell_type": "markdown",
      "source": [
        "# Molecule transformation\n",
        "- Write for each atom in the molecule a line with the element symbol of each atom separated by a comma from its charge to a file named cargas.csv.\n",
        "- Read the cargas.csv file with the pandas module and determine the maximum and minimum atomic charge."
      ],
      "metadata": {
        "id": "WQ6T9qxwxe7K"
      }
    },
    {
      "cell_type": "code",
      "source": [
        "len_cargas = len(sorted_cargas_parciales)\n",
        "indices = [sorted_cargas_parciales[i][0] for i in range(0, len_cargas)]\n",
        "cargas_atomos = {\n",
        "    'Elementos':  [simbolo_atomico[sorted_cargas_parciales[i][0]-1] for i in range(0, len_cargas)],\n",
        "    'Cargas parciales':  [sorted_cargas_parciales[i][1] for i in range(0, len_cargas)],\n",
        "}\n",
        "cargas = pd.DataFrame(data=cargas_atomos, index=indices)"
      ],
      "metadata": {
        "id": "OHIcvhJFM5qX"
      },
      "execution_count": null,
      "outputs": []
    },
    {
      "cell_type": "code",
      "execution_count": null,
      "metadata": {
        "id": "_PvsAfxU9hMg"
      },
      "outputs": [],
      "source": [
        "cargas.to_csv(ruta_archivo_cargas)"
      ]
    },
    {
      "cell_type": "code",
      "execution_count": null,
      "metadata": {
        "id": "5N2wmk4x9hT0"
      },
      "outputs": [],
      "source": [
        "data_cargas = pd.read_csv(ruta_archivo_cargas)"
      ]
    },
    {
      "cell_type": "code",
      "execution_count": null,
      "metadata": {
        "id": "eRe77mGd9han",
        "colab": {
          "base_uri": "https://localhost:8080/"
        },
        "outputId": "007b4672-52b6-4d3a-9f75-3984af7551dd"
      },
      "outputs": [
        {
          "output_type": "stream",
          "name": "stdout",
          "text": [
            "Carga atómica Máxima: 0.66\n",
            "Carga atómica Mínima: -0.99\n"
          ]
        }
      ],
      "source": [
        "print(f\"Carga atómica Máxima: {data_cargas['Cargas parciales'].max()}\")\n",
        "print(f\"Carga atómica Mínima: {data_cargas['Cargas parciales'].min()}\")"
      ]
    },
    {
      "cell_type": "code",
      "source": [
        "#np.around: Round evenly to the given number of decimal places.\n",
        "coordenadas_atomicas_redondeadas = np.around(coordenadas_atomicas, 3)"
      ],
      "metadata": {
        "id": "NfPkqkCiTQyj"
      },
      "execution_count": null,
      "outputs": []
    },
    {
      "cell_type": "code",
      "source": [
        "#In a file named coordinates.xyz write in the first line the total number of atoms and then a line with the name of the molecule followed by lines,\n",
        "#of which each contain the element symbol for each atom and its x,y, and z coordinates to only 3 decimal places.\n",
        "archivo_escritura = open(ruta_archivo_coordenadas,'w')\n",
        "archivo_escritura.write(f\"Número total de átomos: {num_atomos}\\n\")\n",
        "archivo_escritura.write(f\"Nombre de la molécula: Levotiroxina\\n\")\n",
        "for i in range(num_atomos):\n",
        "    archivo_escritura.write(f\"{simbolo_atomico[i]}  {coordenadas_atomicas_redondeadas[i][0]}  {coordenadas_atomicas_redondeadas[i][1]}  {coordenadas_atomicas_redondeadas[i][2]}\\n\")\n",
        "archivo_escritura.close()"
      ],
      "metadata": {
        "id": "7fd8dq6cP9wx"
      },
      "execution_count": null,
      "outputs": []
    },
    {
      "cell_type": "code",
      "source": [
        "# Get the mass of each atom.\n",
        "qcel.periodictable.to_mass('I', return_decimal=True)\n",
        "masas_atomicas = []\n",
        "for elemento in simbolo_atomico:\n",
        "  masas_atomicas.append(float(qcel.periodictable.to_mass(elemento, return_decimal=True)))\n",
        "masas_atomicas"
      ],
      "metadata": {
        "id": "gKuuP-Ix9i1u",
        "colab": {
          "base_uri": "https://localhost:8080/"
        },
        "outputId": "09045a25-baa4-498b-a171-430a6be7c3b8"
      },
      "execution_count": null,
      "outputs": [
        {
          "output_type": "execute_result",
          "data": {
            "text/plain": [
              "[126.9044719,\n",
              " 126.9044719,\n",
              " 126.9044719,\n",
              " 126.9044719,\n",
              " 15.99491461957,\n",
              " 15.99491461957,\n",
              " 15.99491461957,\n",
              " 15.99491461957,\n",
              " 14.00307400443,\n",
              " 12.0,\n",
              " 12.0,\n",
              " 12.0,\n",
              " 12.0,\n",
              " 12.0,\n",
              " 12.0,\n",
              " 12.0,\n",
              " 12.0,\n",
              " 12.0,\n",
              " 12.0,\n",
              " 12.0,\n",
              " 12.0,\n",
              " 12.0,\n",
              " 12.0,\n",
              " 12.0,\n",
              " 1.00782503223,\n",
              " 1.00782503223,\n",
              " 1.00782503223,\n",
              " 1.00782503223,\n",
              " 1.00782503223,\n",
              " 1.00782503223,\n",
              " 1.00782503223,\n",
              " 1.00782503223,\n",
              " 1.00782503223,\n",
              " 1.00782503223,\n",
              " 1.00782503223]"
            ]
          },
          "metadata": {},
          "execution_count": 92
        }
      ]
    },
    {
      "cell_type": "code",
      "source": [
        "archivo_corrdenadas = open(ruta_archivo_coordenadas,'r')\n",
        "archivo_corrdenadas.readlines()"
      ],
      "metadata": {
        "id": "pwRZ8RfePTCC",
        "colab": {
          "base_uri": "https://localhost:8080/"
        },
        "outputId": "724a3f77-54b7-43e6-9baf-7ce87f2b3210"
      },
      "execution_count": null,
      "outputs": [
        {
          "output_type": "execute_result",
          "data": {
            "text/plain": [
              "['Número total de átomos: 35\\n',\n",
              " 'Nombre de la molécula: Levotiroxina\\n',\n",
              " 'I  0.146  -0.702  -3.237\\n',\n",
              " 'I  0.634  -2.54  2.562\\n',\n",
              " 'I  6.594  -0.232  -0.419\\n',\n",
              " 'I  1.879  3.328  1.109\\n',\n",
              " 'O  1.439  -1.802  -0.484\\n',\n",
              " 'O  -3.201  2.17  -0.586\\n',\n",
              " 'O  -5.395  1.84  -1.056\\n',\n",
              " 'O  4.913  2.359  0.544\\n',\n",
              " 'N  -5.694  0.624  1.386\\n',\n",
              " 'C  -4.075  -0.851  0.282\\n',\n",
              " 'C  -4.374  0.578  0.76\\n',\n",
              " 'C  -2.599  -1.105  0.078\\n',\n",
              " 'C  -1.841  -1.583  1.134\\n',\n",
              " 'C  -2.034  -0.855  -1.162\\n',\n",
              " 'C  0.105  -1.571  -0.298\\n',\n",
              " 'C  -0.672  -1.09  -1.351\\n',\n",
              " 'C  -0.479  -1.817  0.944\\n',\n",
              " 'C  -4.404  1.571  -0.389\\n',\n",
              " 'C  2.309  -0.759  -0.226\\n',\n",
              " 'C  1.802  0.456  0.203\\n',\n",
              " 'C  3.668  -0.954  -0.402\\n',\n",
              " 'C  4.547  0.098  -0.142\\n',\n",
              " 'C  2.68  1.507  0.462\\n',\n",
              " 'C  4.053  1.329  0.29\\n',\n",
              " 'H  -4.616  -1.072  -0.648\\n',\n",
              " 'H  -4.443  -1.584  1.014\\n',\n",
              " 'H  -3.645  0.921  1.503\\n',\n",
              " 'H  -2.309  -1.768  2.097\\n',\n",
              " 'H  -2.652  -0.483  -1.975\\n',\n",
              " 'H  -5.709  0.005  2.196\\n',\n",
              " 'H  -6.395  0.256  0.743\\n',\n",
              " 'H  0.744  0.644  0.352\\n',\n",
              " 'H  4.031  -1.921  -0.74\\n',\n",
              " 'H  -3.231  2.818  -1.322\\n',\n",
              " 'H  5.82  2.054  0.37\\n']"
            ]
          },
          "metadata": {},
          "execution_count": 93
        }
      ]
    },
    {
      "cell_type": "code",
      "execution_count": null,
      "metadata": {
        "id": "VCl5d3CEQDe_"
      },
      "outputs": [],
      "source": [
        "coordenadas_atomicas = np.genfromtxt(ruta_archivo_coordenadas, skip_header=2, invalid_raise=False, usecols=(1,2,3), max_rows= num_atomos)"
      ]
    },
    {
      "cell_type": "code",
      "source": [
        "#Function that returns the center of mass. To calculate it, the numpy.dot() function is used, which calculates the dot product of two input arrays.\n",
        "def computarCOM(mass, coordinates):\n",
        "      '''\n",
        "      Retorna el centro de masa.\n",
        "      '''\n",
        "      com = np.dot(mass, coordinates) / np.sum(mass)\n",
        "      return com"
      ],
      "metadata": {
        "id": "NgaP-S26I0er"
      },
      "execution_count": null,
      "outputs": []
    },
    {
      "cell_type": "code",
      "source": [
        "#We get the center of mass using the function created above.\n",
        "print(f\"Center of mass: {computarCOM(masas_atomicas,coordenadas_atomicas)}\")"
      ],
      "metadata": {
        "colab": {
          "base_uri": "https://localhost:8080/"
        },
        "id": "WfcsI78AQ7Mt",
        "outputId": "05a6633a-2a58-4287-ed2a-066c48b1cf14"
      },
      "execution_count": null,
      "outputs": [
        {
          "output_type": "stream",
          "name": "stdout",
          "text": [
            "Center of mass: [1.31362192 0.00331617 0.00234582]\n"
          ]
        }
      ]
    }
  ],
  "metadata": {
    "colab": {
      "provenance": [],
      "collapsed_sections": []
    },
    "kernelspec": {
      "display_name": "Python 3",
      "name": "python3"
    },
    "language_info": {
      "name": "python"
    }
  },
  "nbformat": 4,
  "nbformat_minor": 0
}